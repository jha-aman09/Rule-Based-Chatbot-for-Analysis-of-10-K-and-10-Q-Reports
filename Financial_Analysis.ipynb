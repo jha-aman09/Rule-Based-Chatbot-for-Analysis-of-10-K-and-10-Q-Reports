{
  "nbformat": 4,
  "nbformat_minor": 0,
  "metadata": {
    "colab": {
      "private_outputs": true,
      "provenance": []
    },
    "kernelspec": {
      "name": "python3",
      "display_name": "Python 3"
    },
    "language_info": {
      "name": "python"
    }
  },
  "cells": [
    {
      "cell_type": "code",
      "execution_count": null,
      "metadata": {
        "id": "7zoXZarXr7Jp"
      },
      "outputs": [],
      "source": [
        "#import essential Libariries\n",
        "import pandas as pd\n",
        "import matplotlib.pyplot as plt\n",
        "\n",
        "# Load the data\n",
        "df = pd.read_csv(\"/content/drive/MyDrive/EGDAR.csv\")\n",
        "print(df)\n",
        "\n",
        "# Calculate Revenue Growth (%) and Net Income Growth (%)\n",
        "df['Revenue Growth (%)'] = df.groupby(['Company'])['Total Revenue'].pct_change() * 100\n",
        "df['Net Income Growth (%)'] = df.groupby(['Company'])['Net Income'].pct_change() * 100\n",
        "\n",
        "# Create a new DataFrame to display growth metrics in tabular format\n",
        "growth_table = df[['Company', 'Fiscal Year', 'Revenue Growth (%)', 'Net Income Growth (%)']].copy()\n",
        "growth_table.fillna(0, inplace=True)  # Replace NaN with 0 for better readability\n",
        "print(\"Growth Metrics Table:\")\n",
        "print(growth_table.to_string(index=False))"
      ]
    },
    {
      "cell_type": "code",
      "source": [
        "def simple_chatbot(user_query):\n",
        "   if user_query == \"What is the total revenue for Microsoft in year 2023?\":\n",
        "       return \"The total revenue of Microsoft in year 2023 is 211,915 million dollars.\"\n",
        "   elif user_query == \"Hi\":\n",
        "       return \"Hello\"\n",
        "   elif user_query == \"How are you?\":\n",
        "       return \"I'm fine, thank you!\"\n",
        "   elif user_query == \"What is the total revenue for Microsoft in year 2022?\":\n",
        "       return \"The total revenue of Microsoft in year 2022 is 198,270 million dollars.\"\n",
        "   elif user_query == \"What is the total revenue for Microsoft in year 2021?\":\n",
        "       return \"The total revenue of Microsoft in year 2021 is 211,915 million dollars.\"\n",
        "   elif user_query == \"How has net income changed for Microsoft over the last year?\":\n",
        "       return \"The net income of Microsoft has decreased by 0.518299 over the last year.\"\n",
        "   # Add more conditions for other predefined queries\n",
        "   else:\n",
        "       return \"Sorry, I can only provide information on predefined queries.\""
      ],
      "metadata": {
        "id": "GUKSDcnq0PMq"
      },
      "execution_count": null,
      "outputs": []
    },
    {
      "cell_type": "code",
      "source": [
        "user_query=input(\"Enter your query: \")\n",
        "response=simple_chatbot(user_query)\n",
        "print(response)"
      ],
      "metadata": {
        "id": "1gZUQgNN0TCp"
      },
      "execution_count": null,
      "outputs": []
    }
  ]
}